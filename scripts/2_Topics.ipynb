{
 "cells": [
  {
   "cell_type": "markdown",
   "metadata": {},
   "source": [
    "# Obsługa ROS Topics\n",
    "\n",
    "## Wprowadzenie - polecenia w terminalu\n",
    "ROS Topics używane są do komunikacji rozgłoszeniowej. Nie ma znaczenia kto jest nadawcą, a kto odbiorcą wiadomości. Za kodowanie przesyłanej wiadomości odpowiada **Publisher**, a za rozkodowanie **Subscriber**. Typy wiadomości przechowywane są w katalogu srv, a rozszerzenie wiadomości to .msg.\n",
    "\n",
    "### Struktura wiadomości\n",
    "\n",
    "Z lewej strony należy podać typ wiadomości ROS. Mogą być one bardziej złożone i składać się z już utworzonych wiadomości (ROS msg). Z prawej strony podawana jest nazwa pola.\n",
    "\n",
    "Typ wiadomości to nazwa paczki + nazwa_wiadomosci.msg. Wyświetlenie przykładowej wiadomości znajdującej się w paczce tsr_materials:"
   ]
  },
  {
   "cell_type": "code",
   "execution_count": null,
   "metadata": {},
   "outputs": [],
   "source": [
    "!rosmsg info pkg_tsr/RobotInfo"
   ]
  },
  {
   "cell_type": "markdown",
   "metadata": {},
   "source": [
    "### Wyświetlenie listy aktualnie dostępnych topiców"
   ]
  },
  {
   "cell_type": "code",
   "execution_count": null,
   "metadata": {},
   "outputs": [],
   "source": [
    "!rostopic list"
   ]
  },
  {
   "cell_type": "markdown",
   "metadata": {},
   "source": [
    "### Wyświetlenie dostępnej pomocy dla polecenia rostopic"
   ]
  },
  {
   "cell_type": "code",
   "execution_count": null,
   "metadata": {},
   "outputs": [],
   "source": [
    "!rostopic --help"
   ]
  },
  {
   "cell_type": "markdown",
   "metadata": {},
   "source": [
    "### Generowane topic'i przez node'a turtlesim_node\n",
    "\n",
    "Dla pojedynczego utworzonego robota w przestrzeni nazw na przykładzie turtle1 dostępne są nastpujące topic'i:\n",
    "- /turtle1/cmd_vel - prędkości sterujące robotem\n",
    "- /turtle1/color_sensor - kolor\n",
    "- /turtle1/pose - położenie robota\n",
    "\n",
    "Wyświetlenie informacji o topic'u **/turtle1/cmd_vel**:"
   ]
  },
  {
   "cell_type": "code",
   "execution_count": null,
   "metadata": {},
   "outputs": [],
   "source": [
    "!rostopic info /turtle1/cmd_vel"
   ]
  },
  {
   "cell_type": "markdown",
   "metadata": {},
   "source": [
    "#### Zadanie 1\n",
    "Wyświetlić informację dla pozostałych topic'ów."
   ]
  },
  {
   "cell_type": "code",
   "execution_count": null,
   "metadata": {},
   "outputs": [],
   "source": []
  },
  {
   "cell_type": "code",
   "execution_count": null,
   "metadata": {},
   "outputs": [],
   "source": []
  },
  {
   "cell_type": "markdown",
   "metadata": {},
   "source": [
    "#### Zadanie 2\n",
    "Wyświetlić informację o typach powyższych wiadomości."
   ]
  },
  {
   "cell_type": "code",
   "execution_count": null,
   "metadata": {},
   "outputs": [],
   "source": []
  },
  {
   "cell_type": "code",
   "execution_count": null,
   "metadata": {},
   "outputs": [],
   "source": []
  },
  {
   "cell_type": "code",
   "execution_count": null,
   "metadata": {},
   "outputs": [],
   "source": []
  },
  {
   "cell_type": "markdown",
   "metadata": {},
   "source": [
    "### Sprawdzenie danych w wiadomości"
   ]
  },
  {
   "cell_type": "code",
   "execution_count": null,
   "metadata": {},
   "outputs": [],
   "source": [
    "# po wywołaniu szybk zatrzymać stopem\n",
    "# podgląd całej wiadomości\n",
    "!rostopic echo -c /turtle1/pose"
   ]
  },
  {
   "cell_type": "code",
   "execution_count": null,
   "metadata": {},
   "outputs": [],
   "source": [
    "# podgląd pojedynczego pola\n",
    "!rostopic echo -c /turtle1/pose/theta"
   ]
  },
  {
   "cell_type": "markdown",
   "metadata": {},
   "source": [
    "## Publisher - Python"
   ]
  },
  {
   "cell_type": "markdown",
   "metadata": {},
   "source": [
    "Podstawową biblioteką do obsługi ROS w Pythonie jest **rospy**. Importowanie wiadomości na podstawie informacji o typie wiadomości jest następujące:\n",
    "\n",
    "**import** ***nazwa_paczki.msg*** **import** ***typ_wiadomosci***"
   ]
  },
  {
   "cell_type": "code",
   "execution_count": null,
   "metadata": {},
   "outputs": [],
   "source": [
    "import rospy\n",
    "from geometry_msgs.msg import Twist"
   ]
  },
  {
   "cell_type": "markdown",
   "metadata": {},
   "source": [
    "Inicjalizacja node'a, aby ROS mógł jednoznacznie rozpoznać node'a.\n",
    "\n",
    "Uwaga techniczna. 1 init_node wywoływany w danym zeszycie od Jupyter Notebook."
   ]
  },
  {
   "cell_type": "code",
   "execution_count": null,
   "metadata": {},
   "outputs": [],
   "source": [
    "rospy.init_node(\"topics_test\", anonymous=True)"
   ]
  },
  {
   "cell_type": "markdown",
   "metadata": {},
   "source": [
    "Do utworzenia publishera wykorzystywana jest klasa *Publisher* z biblioteki *rospy*. Przyjmowane kolejno argumenty:\n",
    "- nazwa topic'a, \n",
    "- typ wiadomości, \n",
    "- liczba zakolejkowanych wiadomości."
   ]
  },
  {
   "cell_type": "code",
   "execution_count": null,
   "metadata": {},
   "outputs": [],
   "source": [
    "pub_speed=rospy.Publisher(\"/turtle1/cmd_vel\",Twist,queue_size=10)"
   ]
  },
  {
   "cell_type": "markdown",
   "metadata": {},
   "source": [
    "Utworzenie i uzupełnienie wiadomości."
   ]
  },
  {
   "cell_type": "code",
   "execution_count": null,
   "metadata": {},
   "outputs": [],
   "source": [
    "msg = Twist()\n",
    "msg.linear.x = 0.6\n",
    "msg.angular.z = 1"
   ]
  },
  {
   "cell_type": "markdown",
   "metadata": {},
   "source": [
    "Do wysłania wiadomości do robota *turtle1* jest metoda klasy *Publisher* o nazwie *publish*, która jako argument\n",
    "przyjmuje typ oczekiwanej wiadomości."
   ]
  },
  {
   "cell_type": "code",
   "execution_count": null,
   "metadata": {},
   "outputs": [],
   "source": [
    "pub_speed.publish(msg)"
   ]
  },
  {
   "cell_type": "markdown",
   "metadata": {},
   "source": [
    "#### Zadanie 3\n",
    "Wysyłając różne prędkości sterujące narysować jakiś ciekawy kształ robotem. Na początek może to być kwadrat, trójkąt lub jakaś bardziej skomplikowana abstrakcja. Szybkie wysłanie kolejnych wiadomości po sobie spowoduje, że\n",
    "wartości prędkości zostaną bardzo szybko wysłane zanim robot zdąży wykonać ruch. W tym celu można użyć funkcji:\n",
    "\n",
    "**rospy.sleep(czas_w_sekundach)**\n",
    "\n",
    "Jej zadaniem jest oczekiwanie określonego czasu przed wykonaniem kolejnej akcji"
   ]
  },
  {
   "cell_type": "code",
   "execution_count": null,
   "metadata": {},
   "outputs": [],
   "source": []
  },
  {
   "cell_type": "markdown",
   "metadata": {},
   "source": [
    "#### Zadanie 4\n",
    "Opublikować dowolną wiadomość tekstową na topicu \"informacja\". Wykorzystać wiadomość typu **String** z biblioteki **std_msgs**.\n",
    "1. wyświetlić wiadomość typu string\n",
    "2. zaimportować wiadomość typu string\n",
    "3. utworzyć zmienną publishera\n",
    "4. utworzyć wiadomość i uzupełnić dowolnym tekstem\n",
    "5. wysłać wiadomość\n",
    "6. Podejrzeć w terminalu czy na topicu pojawia się wysłany tekst"
   ]
  },
  {
   "cell_type": "code",
   "execution_count": null,
   "metadata": {},
   "outputs": [],
   "source": []
  },
  {
   "cell_type": "markdown",
   "metadata": {},
   "source": [
    "## Subscriber - Python"
   ]
  },
  {
   "cell_type": "code",
   "execution_count": null,
   "metadata": {},
   "outputs": [],
   "source": [
    "!rosservice call reset"
   ]
  },
  {
   "cell_type": "code",
   "execution_count": null,
   "metadata": {},
   "outputs": [],
   "source": [
    "def callback_function(msg_data):\n",
    "    print(\"Subscriber - otrzymana wiadomosc: \", msg_data.data)"
   ]
  },
  {
   "cell_type": "markdown",
   "metadata": {},
   "source": [
    "Do utworzenia subscribera wykorzystywana jest klasa Publisher z biblioteki rospy. Przyjmowane kolejno argumenty:\n",
    "- nazwa topic'u\n",
    "- typ wiadomości\n",
    "- nazwa funkcji, która jest wywoływana do odebrania danych z odczytanej wiadomości"
   ]
  },
  {
   "cell_type": "code",
   "execution_count": null,
   "metadata": {},
   "outputs": [],
   "source": [
    "my_subscriber = rospy.Subscriber(\"informacja\",String,callback_function)"
   ]
  },
  {
   "cell_type": "markdown",
   "metadata": {},
   "source": [
    "Wyłączenie subscriber'a."
   ]
  },
  {
   "cell_type": "code",
   "execution_count": null,
   "metadata": {},
   "outputs": [],
   "source": [
    "my_subscriber.unregister()"
   ]
  },
  {
   "cell_type": "markdown",
   "metadata": {},
   "source": [
    "#### Zadanie 5\n",
    "Utworzyć subscriber'a odpowiedzialnego za odczyt położenia żółwia.\n",
    "1. Sprawdzić typ wiadomości\n",
    "2. Zaimportować wiadomość od położenia\n",
    "3. napisać funkcję odczytującą wartość położenia i zapisującą ją w zmiennej globalnej. Nie wyświetlać w funkcji, gdyż przychodzi bardzo dużo wiadomości.\n",
    "4. utworzyć zmienną subscriber'a \n",
    "5. Wyświetlić wartość zmiennej globalnej"
   ]
  },
  {
   "cell_type": "code",
   "execution_count": null,
   "metadata": {},
   "outputs": [],
   "source": []
  },
  {
   "cell_type": "markdown",
   "metadata": {},
   "source": [
    "## Jednoczesny Publisher Subscriber - przykład"
   ]
  },
  {
   "cell_type": "code",
   "execution_count": null,
   "metadata": {},
   "outputs": [],
   "source": [
    "# jeśli to konieczne zaimportować odpowiednie biblioteki\n",
    "\n",
    "vel_topic_name = ... # UZUPEŁNIĆ\n",
    "vel_topic_type = ... # UZUPEŁNIĆ\n",
    "pub_velocity = rospy.Publisher(vel_topic_name,vel_topic_type,queue_size=10)\n",
    "\n",
    "direction_right = True\n",
    "def robot_control(message):    \n",
    "    \"\"\"Analiza wiadomości i wysłanie jej na innym topicu\"\"\"\n",
    "    global direction_right\n",
    "    vel_msg = Twist()\n",
    "    if direction_right:\n",
    "        vel_msg.linear.x = 0.5\n",
    "        vel_msg.angular.z = 0\n",
    "    else:\n",
    "        vel_msg.linear.x = -0.5\n",
    "        vel_msg.angular.z = 0\n",
    "        \n",
    "    if message.x > 7:\n",
    "        direction_right = False\n",
    "    elif message.x < 2:\n",
    "        direction_right = True\n",
    "    # wysłanie przeanalizowanych danych    \n",
    "    pub_velocity.publish(vel_msg)\n",
    "    \n",
    "\n",
    "\n",
    "# odebrać wiadomość z topicu /\n",
    "pose_topic_name = ... # UZUPEŁNIĆ\n",
    "pose_topic_type = ... # UZUPEŁNIĆ\n",
    "subscriber= rospy.Subscriber(pose_topic_name, pose_topic_type, robot_control)   "
   ]
  },
  {
   "cell_type": "code",
   "execution_count": null,
   "metadata": {},
   "outputs": [],
   "source": []
  }
 ],
 "metadata": {
  "kernelspec": {
   "display_name": "Python 3",
   "language": "python",
   "name": "python3"
  },
  "language_info": {
   "codemirror_mode": {
    "name": "ipython",
    "version": 3
   },
   "file_extension": ".py",
   "mimetype": "text/x-python",
   "name": "python",
   "nbconvert_exporter": "python",
   "pygments_lexer": "ipython3",
   "version": "3.8.5"
  }
 },
 "nbformat": 4,
 "nbformat_minor": 4
}
